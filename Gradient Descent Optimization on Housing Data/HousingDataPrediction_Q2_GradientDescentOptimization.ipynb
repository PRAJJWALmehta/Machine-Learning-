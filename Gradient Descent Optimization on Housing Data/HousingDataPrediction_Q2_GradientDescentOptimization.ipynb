{
  "cells": [
    {
      "cell_type": "code",
      "source": [
        "import numpy as np\n",
        "import pandas as pd\n",
        "import seaborn as sns\n",
        "import matplotlib.pyplot as plt"
      ],
      "metadata": {
        "id": "lDz0X3q8CZ4V"
      },
      "execution_count": 26,
      "outputs": []
    },
    {
      "cell_type": "code",
      "execution_count": 27,
      "metadata": {
        "colab": {
          "base_uri": "https://localhost:8080/",
          "height": 399
        },
        "id": "7NUk8KnPCEWo",
        "outputId": "5d7a73c9-909d-4d95-c870-305ad33c2473"
      },
      "outputs": [
        {
          "output_type": "execute_result",
          "data": {
            "text/plain": [
              "       Avg. Area Income  Avg. Area House Age  Avg. Area Number of Rooms  \\\n",
              "count       5000.000000          5000.000000                5000.000000   \n",
              "mean       68583.108984             5.977222                   6.987792   \n",
              "std        10657.991214             0.991456                   1.005833   \n",
              "min        17796.631190             2.644304                   3.236194   \n",
              "25%        61480.562390             5.322283                   6.299250   \n",
              "50%        68804.286405             5.970429                   7.002902   \n",
              "75%        75783.338665             6.650808                   7.665871   \n",
              "max       107701.748400             9.519088                  10.759588   \n",
              "\n",
              "       Avg. Area Number of Bedrooms  Area Population         Price  \n",
              "count                   5000.000000      5000.000000  5.000000e+03  \n",
              "mean                       3.981330     36163.516039  1.232073e+06  \n",
              "std                        1.234137      9925.650114  3.531176e+05  \n",
              "min                        2.000000       172.610686  1.593866e+04  \n",
              "25%                        3.140000     29403.928700  9.975771e+05  \n",
              "50%                        4.050000     36199.406690  1.232669e+06  \n",
              "75%                        4.490000     42861.290770  1.471210e+06  \n",
              "max                        6.500000     69621.713380  2.469066e+06  "
            ],
            "text/html": [
              "\n",
              "  <div id=\"df-21318cf3-24a3-4230-8248-cbdbe217f3dc\">\n",
              "    <div class=\"colab-df-container\">\n",
              "      <div>\n",
              "<style scoped>\n",
              "    .dataframe tbody tr th:only-of-type {\n",
              "        vertical-align: middle;\n",
              "    }\n",
              "\n",
              "    .dataframe tbody tr th {\n",
              "        vertical-align: top;\n",
              "    }\n",
              "\n",
              "    .dataframe thead th {\n",
              "        text-align: right;\n",
              "    }\n",
              "</style>\n",
              "<table border=\"1\" class=\"dataframe\">\n",
              "  <thead>\n",
              "    <tr style=\"text-align: right;\">\n",
              "      <th></th>\n",
              "      <th>Avg. Area Income</th>\n",
              "      <th>Avg. Area House Age</th>\n",
              "      <th>Avg. Area Number of Rooms</th>\n",
              "      <th>Avg. Area Number of Bedrooms</th>\n",
              "      <th>Area Population</th>\n",
              "      <th>Price</th>\n",
              "    </tr>\n",
              "  </thead>\n",
              "  <tbody>\n",
              "    <tr>\n",
              "      <th>count</th>\n",
              "      <td>5000.000000</td>\n",
              "      <td>5000.000000</td>\n",
              "      <td>5000.000000</td>\n",
              "      <td>5000.000000</td>\n",
              "      <td>5000.000000</td>\n",
              "      <td>5.000000e+03</td>\n",
              "    </tr>\n",
              "    <tr>\n",
              "      <th>mean</th>\n",
              "      <td>68583.108984</td>\n",
              "      <td>5.977222</td>\n",
              "      <td>6.987792</td>\n",
              "      <td>3.981330</td>\n",
              "      <td>36163.516039</td>\n",
              "      <td>1.232073e+06</td>\n",
              "    </tr>\n",
              "    <tr>\n",
              "      <th>std</th>\n",
              "      <td>10657.991214</td>\n",
              "      <td>0.991456</td>\n",
              "      <td>1.005833</td>\n",
              "      <td>1.234137</td>\n",
              "      <td>9925.650114</td>\n",
              "      <td>3.531176e+05</td>\n",
              "    </tr>\n",
              "    <tr>\n",
              "      <th>min</th>\n",
              "      <td>17796.631190</td>\n",
              "      <td>2.644304</td>\n",
              "      <td>3.236194</td>\n",
              "      <td>2.000000</td>\n",
              "      <td>172.610686</td>\n",
              "      <td>1.593866e+04</td>\n",
              "    </tr>\n",
              "    <tr>\n",
              "      <th>25%</th>\n",
              "      <td>61480.562390</td>\n",
              "      <td>5.322283</td>\n",
              "      <td>6.299250</td>\n",
              "      <td>3.140000</td>\n",
              "      <td>29403.928700</td>\n",
              "      <td>9.975771e+05</td>\n",
              "    </tr>\n",
              "    <tr>\n",
              "      <th>50%</th>\n",
              "      <td>68804.286405</td>\n",
              "      <td>5.970429</td>\n",
              "      <td>7.002902</td>\n",
              "      <td>4.050000</td>\n",
              "      <td>36199.406690</td>\n",
              "      <td>1.232669e+06</td>\n",
              "    </tr>\n",
              "    <tr>\n",
              "      <th>75%</th>\n",
              "      <td>75783.338665</td>\n",
              "      <td>6.650808</td>\n",
              "      <td>7.665871</td>\n",
              "      <td>4.490000</td>\n",
              "      <td>42861.290770</td>\n",
              "      <td>1.471210e+06</td>\n",
              "    </tr>\n",
              "    <tr>\n",
              "      <th>max</th>\n",
              "      <td>107701.748400</td>\n",
              "      <td>9.519088</td>\n",
              "      <td>10.759588</td>\n",
              "      <td>6.500000</td>\n",
              "      <td>69621.713380</td>\n",
              "      <td>2.469066e+06</td>\n",
              "    </tr>\n",
              "  </tbody>\n",
              "</table>\n",
              "</div>\n",
              "      <button class=\"colab-df-convert\" onclick=\"convertToInteractive('df-21318cf3-24a3-4230-8248-cbdbe217f3dc')\"\n",
              "              title=\"Convert this dataframe to an interactive table.\"\n",
              "              style=\"display:none;\">\n",
              "        \n",
              "  <svg xmlns=\"http://www.w3.org/2000/svg\" height=\"24px\"viewBox=\"0 0 24 24\"\n",
              "       width=\"24px\">\n",
              "    <path d=\"M0 0h24v24H0V0z\" fill=\"none\"/>\n",
              "    <path d=\"M18.56 5.44l.94 2.06.94-2.06 2.06-.94-2.06-.94-.94-2.06-.94 2.06-2.06.94zm-11 1L8.5 8.5l.94-2.06 2.06-.94-2.06-.94L8.5 2.5l-.94 2.06-2.06.94zm10 10l.94 2.06.94-2.06 2.06-.94-2.06-.94-.94-2.06-.94 2.06-2.06.94z\"/><path d=\"M17.41 7.96l-1.37-1.37c-.4-.4-.92-.59-1.43-.59-.52 0-1.04.2-1.43.59L10.3 9.45l-7.72 7.72c-.78.78-.78 2.05 0 2.83L4 21.41c.39.39.9.59 1.41.59.51 0 1.02-.2 1.41-.59l7.78-7.78 2.81-2.81c.8-.78.8-2.07 0-2.86zM5.41 20L4 18.59l7.72-7.72 1.47 1.35L5.41 20z\"/>\n",
              "  </svg>\n",
              "      </button>\n",
              "      \n",
              "  <style>\n",
              "    .colab-df-container {\n",
              "      display:flex;\n",
              "      flex-wrap:wrap;\n",
              "      gap: 12px;\n",
              "    }\n",
              "\n",
              "    .colab-df-convert {\n",
              "      background-color: #E8F0FE;\n",
              "      border: none;\n",
              "      border-radius: 50%;\n",
              "      cursor: pointer;\n",
              "      display: none;\n",
              "      fill: #1967D2;\n",
              "      height: 32px;\n",
              "      padding: 0 0 0 0;\n",
              "      width: 32px;\n",
              "    }\n",
              "\n",
              "    .colab-df-convert:hover {\n",
              "      background-color: #E2EBFA;\n",
              "      box-shadow: 0px 1px 2px rgba(60, 64, 67, 0.3), 0px 1px 3px 1px rgba(60, 64, 67, 0.15);\n",
              "      fill: #174EA6;\n",
              "    }\n",
              "\n",
              "    [theme=dark] .colab-df-convert {\n",
              "      background-color: #3B4455;\n",
              "      fill: #D2E3FC;\n",
              "    }\n",
              "\n",
              "    [theme=dark] .colab-df-convert:hover {\n",
              "      background-color: #434B5C;\n",
              "      box-shadow: 0px 1px 3px 1px rgba(0, 0, 0, 0.15);\n",
              "      filter: drop-shadow(0px 1px 2px rgba(0, 0, 0, 0.3));\n",
              "      fill: #FFFFFF;\n",
              "    }\n",
              "  </style>\n",
              "\n",
              "      <script>\n",
              "        const buttonEl =\n",
              "          document.querySelector('#df-21318cf3-24a3-4230-8248-cbdbe217f3dc button.colab-df-convert');\n",
              "        buttonEl.style.display =\n",
              "          google.colab.kernel.accessAllowed ? 'block' : 'none';\n",
              "\n",
              "        async function convertToInteractive(key) {\n",
              "          const element = document.querySelector('#df-21318cf3-24a3-4230-8248-cbdbe217f3dc');\n",
              "          const dataTable =\n",
              "            await google.colab.kernel.invokeFunction('convertToInteractive',\n",
              "                                                     [key], {});\n",
              "          if (!dataTable) return;\n",
              "\n",
              "          const docLinkHtml = 'Like what you see? Visit the ' +\n",
              "            '<a target=\"_blank\" href=https://colab.research.google.com/notebooks/data_table.ipynb>data table notebook</a>'\n",
              "            + ' to learn more about interactive tables.';\n",
              "          element.innerHTML = '';\n",
              "          dataTable['output_type'] = 'display_data';\n",
              "          await google.colab.output.renderOutput(dataTable, element);\n",
              "          const docLink = document.createElement('div');\n",
              "          docLink.innerHTML = docLinkHtml;\n",
              "          element.appendChild(docLink);\n",
              "        }\n",
              "      </script>\n",
              "    </div>\n",
              "  </div>\n",
              "  "
            ]
          },
          "metadata": {},
          "execution_count": 27
        }
      ],
      "source": [
        "df=pd.read_csv('https://raw.githubusercontent.com/PRAJJWALmehta/Machine-Learning-/main/Data/USA_Housing.csv')\n",
        "df.describe()"
      ]
    },
    {
      "cell_type": "code",
      "execution_count": 34,
      "metadata": {
        "id": "-nYfUbMLCEWt"
      },
      "outputs": [],
      "source": [
        "import numpy as np\n",
        "X=df.iloc[:,0:5]\n",
        "Y=df.iloc[:,5]\n",
        "Y=np.array(Y)\n",
        "Y=Y.reshape(-1,1)\n",
        "from sklearn.preprocessing import StandardScaler\n",
        "scaler=StandardScaler()\n",
        "X_scaled=scaler.fit_transform(X)\n"
      ]
    },
    {
      "cell_type": "code",
      "execution_count": 35,
      "metadata": {
        "colab": {
          "base_uri": "https://localhost:8080/"
        },
        "id": "Sg8-qTTiCEWt",
        "outputId": "b3cf2f20-8325-4fa3-8b93-d239a27e959e"
      },
      "outputs": [
        {
          "output_type": "stream",
          "name": "stdout",
          "text": [
            "(700, 1)\n"
          ]
        }
      ],
      "source": [
        "from sklearn.model_selection import train_test_split\n",
        "X_intermediate, X_test, Y_intermediate, Y_test = train_test_split(X_scaled, Y, test_size=0.3, random_state=42)\n",
        "X_train, X_validation, Y_train, Y_validation = train_test_split(X_intermediate,Y_intermediate,test_size=0.2,random_state=42)\n",
        "print(Y_validation.shape)"
      ]
    },
    {
      "cell_type": "code",
      "execution_count": 36,
      "metadata": {
        "colab": {
          "base_uri": "https://localhost:8080/"
        },
        "id": "l0Qb0Y94CEWu",
        "outputId": "42793a18-4c88-44ef-f3b9-43990879ee24"
      },
      "outputs": [
        {
          "output_type": "stream",
          "name": "stdout",
          "text": [
            "[[  67133.53630358  529329.43227428 1228654.4243101  1232618.32011841]\n",
            " [  12589.61696567   99003.272281    229235.11954318  230067.9889464 ]\n",
            " [   8683.53334913   68841.91685442  162993.67784305  163710.33259401]\n",
            " [   8194.33276617   58621.16538896  118985.55459136  121681.42752284]\n",
            " [   4810.52859515   28672.72378661    5954.61215367    2832.15066521]\n",
            " [   7239.00498571   59053.06185437  149987.90210255  150657.52262836]]\n"
          ]
        }
      ],
      "source": [
        "beta=np.zeros((6,4))\n",
        "number_of_iterations=100\n",
        "learning_rate=[0.001,0.01,0.1,1]\n",
        "n=len(df)\n",
        "for k in range(len(learning_rate)):\n",
        "    for i in range(number_of_iterations):\n",
        "        x0_gradient=0\n",
        "        x1_gradient=0\n",
        "        x2_gradient=0\n",
        "        x3_gradient=0\n",
        "        x4_gradient=0\n",
        "        x5_gradient=0    \n",
        "        for j in range(len(X_train)):\n",
        "            a=X_train[j,0]\n",
        "            b=X_train[j,1]\n",
        "            c=X_train[j,2]\n",
        "            d=X_train[j,3]\n",
        "            e=X_train[j,4]\n",
        "            f=Y_train[j]\n",
        "            x0_gradient+=(beta[0][k]+(beta[1][k]*a)+(beta[2][k]*b)+(beta[3][k]*c)+(beta[4][k]*d)+(beta[5][k]*e)-f)\n",
        "            x1_gradient+=((beta[0][k]+(beta[1][k]*a)+(beta[2][k]*b)+(beta[3][k]*c)+(beta[4][k]*d)+(beta[5][k]*e)-f)*a)\n",
        "            x2_gradient+=((beta[0][k]+(beta[1][k]*a)+(beta[2][k]*b)+(beta[3][k]*c)+(beta[4][k]*d)+(beta[5][k]*e)-f)*b)\n",
        "            x3_gradient+=((beta[0][k]+(beta[1][k]*a)+(beta[2][k]*b)+(beta[3][k]*c)+(beta[4][k]*d)+(beta[5][k]*e)-f)*c)\n",
        "            x4_gradient+=((beta[0][k]+(beta[1][k]*a)+(beta[2][k]*b)+(beta[3][k]*c)+(beta[4][k]*d)+(beta[5][k]*e)-f)*d)\n",
        "            x5_gradient+=((beta[0][k]+(beta[1][k]*a)+(beta[2][k]*b)+(beta[3][k]*c)+(beta[4][k]*d)+(beta[5][k]*e)-f)*e)\n",
        "        beta[0][k]=beta[0][k]-((learning_rate[k]/n)*x0_gradient)\n",
        "        beta[1][k]=beta[1][k]-((learning_rate[k]/n)*x1_gradient)\n",
        "        beta[2][k]=beta[2][k]-((learning_rate[k]/n)*x2_gradient)\n",
        "        beta[3][k]=beta[3][k]-((learning_rate[k]/n)*x3_gradient)\n",
        "        beta[4][k]=beta[4][k]-((learning_rate[k]/n)*x4_gradient)\n",
        "        beta[5][k]=beta[5][k]-((learning_rate[k]/n)*x5_gradient)\n",
        "print(beta)\n",
        "       \n",
        "        "
      ]
    },
    {
      "cell_type": "code",
      "execution_count": 37,
      "metadata": {
        "colab": {
          "base_uri": "https://localhost:8080/"
        },
        "id": "agUGesvrCEWv",
        "outputId": "acea6777-fd0d-4a61-d7f1-08efdd149794"
      },
      "outputs": [
        {
          "output_type": "stream",
          "name": "stdout",
          "text": [
            "0    67133.536304\n",
            "1    12589.616966\n",
            "2     8683.533349\n",
            "3     8194.332766\n",
            "4     4810.528595\n",
            "5     7239.004986\n",
            "Name: 0, dtype: float64\n"
          ]
        }
      ],
      "source": [
        "beta=pd.DataFrame(data=beta)\n",
        "print(beta[0])"
      ]
    },
    {
      "cell_type": "code",
      "execution_count": 38,
      "metadata": {
        "id": "DxgIZ1UlCEWw"
      },
      "outputs": [],
      "source": [
        "X_validation=np.insert(X_validation,0,values=1,axis=1)\n",
        "X_test=np.insert(X_test,0,values=1,axis=1)"
      ]
    },
    {
      "cell_type": "code",
      "execution_count": 39,
      "metadata": {
        "colab": {
          "base_uri": "https://localhost:8080/"
        },
        "id": "oPdugIb3CEWx",
        "outputId": "58ca713a-9ce6-4dee-bbc9-b92ad7904d38"
      },
      "outputs": [
        {
          "output_type": "stream",
          "name": "stdout",
          "text": [
            "-10.499535644463432 -11.570154129396213\n",
            "-3.2391364999526324 -3.639254194674658\n",
            "0.910087841876989 0.9143255087986946\n",
            "0.9097995626742028 0.9147570103083724\n"
          ]
        }
      ],
      "source": [
        "import sklearn\n",
        "from sklearn import metrics\n",
        "for i in range(len(learning_rate)):\n",
        "    validation_error=metrics.r2_score(Y_validation,X_validation.dot(beta[i]))    \n",
        "    test_error=metrics.r2_score(Y_test,X_test.dot(beta[i]))\n",
        "    print(validation_error,test_error)"
      ]
    }
  ],
  "metadata": {
    "kernelspec": {
      "display_name": "Python 3",
      "language": "python",
      "name": "python3"
    },
    "language_info": {
      "codemirror_mode": {
        "name": "ipython",
        "version": 3
      },
      "file_extension": ".py",
      "mimetype": "text/x-python",
      "name": "python",
      "nbconvert_exporter": "python",
      "pygments_lexer": "ipython3",
      "version": "3.7.6"
    },
    "colab": {
      "provenance": []
    }
  },
  "nbformat": 4,
  "nbformat_minor": 0
}